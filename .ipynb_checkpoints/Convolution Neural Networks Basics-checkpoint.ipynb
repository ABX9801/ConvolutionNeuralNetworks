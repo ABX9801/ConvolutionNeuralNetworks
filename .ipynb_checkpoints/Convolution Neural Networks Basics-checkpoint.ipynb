{
 "cells": [
  {
   "cell_type": "code",
   "execution_count": 1,
   "metadata": {},
   "outputs": [],
   "source": [
    "import numpy as np\n",
    "import h5py\n",
    "import matplotlib.pyplot as plt"
   ]
  },
  {
   "cell_type": "markdown",
   "metadata": {},
   "source": [
    "### Zero Padding\n",
    "The main benefits of padding are the following:\n",
    "\n",
    "- It allows you to use a CONV layer without necessarily shrinking the height and width of the volumes. This is important for building deeper networks, since otherwise the height/width would shrink as you go to deeper layers. An important special case is the \"same\" convolution, in which the height/width is exactly preserved after one layer. \n",
    "\n",
    "- It helps us keep more of the information at the border of an image. Without padding, very few values at the next layer would be affected by pixels as the edges of an image."
   ]
  },
  {
   "cell_type": "markdown",
   "metadata": {},
   "source": [
    "Let us say that we have a 6x6x3 image; Now we will pad it with zeros and p =1"
   ]
  },
  {
   "cell_type": "code",
   "execution_count": 2,
   "metadata": {},
   "outputs": [
    {
     "name": "stdout",
     "output_type": "stream",
     "text": [
      "Shape of Image =  (6, 6, 3)\n"
     ]
    },
    {
     "data": {
      "image/png": "[encoded data removed]",
      "text/plain": [
       "<Figure size 432x288 with 1 Axes>"
      ]
     },
     "metadata": {
      "needs_background": "light"
     },
     "output_type": "display_data"
    }
   ],
   "source": [
    "image = np.random.rand(6,6,3)\n",
    "plt.imshow(image)\n",
    "print('Shape of Image = ',image.shape)"
   ]
  },
  {
   "cell_type": "code",
   "execution_count": 3,
   "metadata": {},
   "outputs": [
    {
     "name": "stdout",
     "output_type": "stream",
     "text": [
      "Shape of Image =  (8, 8, 3)\n"
     ]
    },
    {
     "data": {
      "image/png": "[encoded data removed]",
      "text/plain": [
       "<Figure size 432x288 with 1 Axes>"
      ]
     },
     "metadata": {
      "needs_background": "light"
     },
     "output_type": "display_data"
    }
   ],
   "source": [
    "padded_image = np.pad(image,((1,1),(1,1),(0,0)),mode='constant',constant_values=(0,0))#We padded only the height and Width\n",
    "plt.imshow(padded_image)\n",
    "print('Shape of Image = ',padded_image.shape)"
   ]
  },
  {
   "cell_type": "markdown",
   "metadata": {},
   "source": [
    "- Now Let us assume we have m training examples\n",
    "- Then the Shape of our training set = (m,height,width,channels)\n",
    "- Now we have to pad all the images and modify our training set;"
   ]
  },
  {
   "cell_type": "code",
   "execution_count": 4,
   "metadata": {},
   "outputs": [
    {
     "name": "stdout",
     "output_type": "stream",
     "text": [
      "Training_set_Shape :  (100, 6, 6, 3)\n",
      "Image  Shape       :  (6, 6, 3)\n"
     ]
    },
    {
     "data": {
      "image/png": "[encoded data removed]",
      "text/plain": [
       "<Figure size 432x288 with 1 Axes>"
      ]
     },
     "metadata": {
      "needs_background": "light"
     },
     "output_type": "display_data"
    }
   ],
   "source": [
    "np.random.seed(1)\n",
    "training_set = np.random.rand(100,6,6,3)# 100 training examples of shape 6x6x3\n",
    "index = 1\n",
    "plt.imshow(training_set[index,:,:,:])\n",
    "print('Training_set_Shape : ',training_set.shape)\n",
    "print('Image  Shape       : ',training_set[index,:,:,:].shape)#showing 1st image of training set"
   ]
  },
  {
   "cell_type": "markdown",
   "metadata": {},
   "source": [
    "Padding the whole Training Data"
   ]
  },
  {
   "cell_type": "code",
   "execution_count": 5,
   "metadata": {},
   "outputs": [],
   "source": [
    "def zero_padding(x_train,pad):\n",
    "    padded_x_train = np.pad(x_train,((0,0),(pad,pad),(pad,pad),(0,0)),mode='constant',constant_values=(0,0))\n",
    "    return padded_x_train"
   ]
  },
  {
   "cell_type": "code",
   "execution_count": 6,
   "metadata": {},
   "outputs": [
    {
     "name": "stdout",
     "output_type": "stream",
     "text": [
      "Padded Training_set_Shape : (100, 8, 8, 3)\n",
      "Padded Image Shape        : (8, 8, 3)\n"
     ]
    },
    {
     "data": {
      "image/png": "[encoded data removed]",
      "text/plain": [
       "<Figure size 432x288 with 1 Axes>"
      ]
     },
     "metadata": {
      "needs_background": "light"
     },
     "output_type": "display_data"
    }
   ],
   "source": [
    "padded_training_set = zero_padding(training_set,1)#p=1\n",
    "print('Padded Training_set_Shape :',padded_training_set.shape)\n",
    "plt.imshow(padded_training_set[index,:,:,:])\n",
    "print('Padded Image Shape        :',padded_training_set[index,:,:,:].shape)"
   ]
  },
  {
   "cell_type": "markdown",
   "metadata": {},
   "source": [
    "### Single Step\n",
    "- Here We will implement a Function that does Element Wise multiplication with one position of the image\n",
    "- The Function will return a value which will take position in the output image"
   ]
  },
  {
   "cell_type": "code",
   "execution_count": 7,
   "metadata": {},
   "outputs": [],
   "source": [
    "def conv_step(a_slice_prev,W,b):\n",
    "    Z = np.sum(a_slice_prev*W)\n",
    "    Z = float(Z+b)\n",
    "    return Z"
   ]
  },
  {
   "cell_type": "markdown",
   "metadata": {},
   "source": [
    "### Convolution Operation\n",
    "- With one image"
   ]
  },
  {
   "cell_type": "code",
   "execution_count": 8,
   "metadata": {},
   "outputs": [],
   "source": [
    "def conv_forward(a_prev,W,b):\n",
    "    \n",
    "    (n_Hprev,n_Wprev,n_Cprev) = a_prev.shape\n",
    "    (f,f,n_Cprev) = W.shape\n",
    "    \n",
    "    stride = 1\n",
    "    pad = 1\n",
    "    \n",
    "    n_H = int((n_Hprev+2*pad-f)/stride)+1\n",
    "    n_W = int((n_Wprev+2*pad-f)/stride)+1\n",
    "    \n",
    "    Z   = np.zeros((n_H,n_W))\n",
    "    \n",
    "    a_prev_padded = np.pad(a_prev,((pad,pad),(pad,pad),(0,0)),mode='constant',constant_values=(0,0))\n",
    "    \n",
    "    for h in range(n_H):\n",
    "        vert_start = h*stride\n",
    "        vert_end   = h*stride+f\n",
    "        print('h :',h)\n",
    "        for w in range(n_W):\n",
    "            horiz_start = w*stride\n",
    "            horiz_end   = w*stride+f\n",
    "            print('w :',w)\n",
    "            print(\"[\",vert_start,':',vert_end,',',horiz_start,':',horiz_end,']')\n",
    "            \n",
    "            a_slice_prev = a_prev_padded[vert_start:vert_end,horiz_start:horiz_end,:]\n",
    "            Z[h,w] = conv_step(a_slice_prev,W,b)\n",
    "        print('\\n')\n",
    "                \n",
    "    return Z,a_prev_padded\n",
    "            "
   ]
  },
  {
   "cell_type": "code",
   "execution_count": 9,
   "metadata": {},
   "outputs": [
    {
     "name": "stdout",
     "output_type": "stream",
     "text": [
      "h : 0\n",
      "w : 0\n",
      "[ 0 : 3 , 0 : 3 ]\n",
      "w : 1\n",
      "[ 0 : 3 , 1 : 4 ]\n",
      "w : 2\n",
      "[ 0 : 3 , 2 : 5 ]\n",
      "w : 3\n",
      "[ 0 : 3 , 3 : 6 ]\n",
      "w : 4\n",
      "[ 0 : 3 , 4 : 7 ]\n",
      "w : 5\n",
      "[ 0 : 3 , 5 : 8 ]\n",
      "\n",
      "\n",
      "h : 1\n",
      "w : 0\n",
      "[ 1 : 4 , 0 : 3 ]\n",
      "w : 1\n",
      "[ 1 : 4 , 1 : 4 ]\n",
      "w : 2\n",
      "[ 1 : 4 , 2 : 5 ]\n",
      "w : 3\n",
      "[ 1 : 4 , 3 : 6 ]\n",
      "w : 4\n",
      "[ 1 : 4 , 4 : 7 ]\n",
      "w : 5\n",
      "[ 1 : 4 , 5 : 8 ]\n",
      "\n",
      "\n",
      "h : 2\n",
      "w : 0\n",
      "[ 2 : 5 , 0 : 3 ]\n",
      "w : 1\n",
      "[ 2 : 5 , 1 : 4 ]\n",
      "w : 2\n",
      "[ 2 : 5 , 2 : 5 ]\n",
      "w : 3\n",
      "[ 2 : 5 , 3 : 6 ]\n",
      "w : 4\n",
      "[ 2 : 5 , 4 : 7 ]\n",
      "w : 5\n",
      "[ 2 : 5 , 5 : 8 ]\n",
      "\n",
      "\n",
      "h : 3\n",
      "w : 0\n",
      "[ 3 : 6 , 0 : 3 ]\n",
      "w : 1\n",
      "[ 3 : 6 , 1 : 4 ]\n",
      "w : 2\n",
      "[ 3 : 6 , 2 : 5 ]\n",
      "w : 3\n",
      "[ 3 : 6 , 3 : 6 ]\n",
      "w : 4\n",
      "[ 3 : 6 , 4 : 7 ]\n",
      "w : 5\n",
      "[ 3 : 6 , 5 : 8 ]\n",
      "\n",
      "\n",
      "h : 4\n",
      "w : 0\n",
      "[ 4 : 7 , 0 : 3 ]\n",
      "w : 1\n",
      "[ 4 : 7 , 1 : 4 ]\n",
      "w : 2\n",
      "[ 4 : 7 , 2 : 5 ]\n",
      "w : 3\n",
      "[ 4 : 7 , 3 : 6 ]\n",
      "w : 4\n",
      "[ 4 : 7 , 4 : 7 ]\n",
      "w : 5\n",
      "[ 4 : 7 , 5 : 8 ]\n",
      "\n",
      "\n",
      "h : 5\n",
      "w : 0\n",
      "[ 5 : 8 , 0 : 3 ]\n",
      "w : 1\n",
      "[ 5 : 8 , 1 : 4 ]\n",
      "w : 2\n",
      "[ 5 : 8 , 2 : 5 ]\n",
      "w : 3\n",
      "[ 5 : 8 , 3 : 6 ]\n",
      "w : 4\n",
      "[ 5 : 8 , 4 : 7 ]\n",
      "w : 5\n",
      "[ 5 : 8 , 5 : 8 ]\n",
      "\n",
      "\n"
     ]
    }
   ],
   "source": [
    "np.random.seed(1)\n",
    "image = np.random.rand(6,6,3)\n",
    "W = np.random.rand(3,3,3)\n",
    "b = np.random.rand(1,1,1)\n",
    "\n",
    "Z,padded_image = conv_forward(image,W,b)"
   ]
  },
  {
   "cell_type": "code",
   "execution_count": 10,
   "metadata": {},
   "outputs": [
    {
     "data": {
      "text/plain": [
       "<matplotlib.image.AxesImage at 0x239c2195d68>"
      ]
     },
     "execution_count": 10,
     "metadata": {},
     "output_type": "execute_result"
    },
    {
     "data": {
      "image/png": "[encoded data removed]",
      "text/plain": [
       "<Figure size 432x288 with 4 Axes>"
      ]
     },
     "metadata": {
      "needs_background": "light"
     },
     "output_type": "display_data"
    }
   ],
   "source": [
    "fig, axarr = plt.subplots(1, 4)\n",
    "axarr[0].set_title('X')\n",
    "axarr[0].imshow(image)\n",
    "axarr[1].set_title('x_pad')\n",
    "axarr[1].imshow(padded_image)\n",
    "axarr[2].set_title('W')\n",
    "axarr[2].imshow(W)\n",
    "axarr[3].set_title('Output')\n",
    "axarr[3].imshow(Z)"
   ]
  },
  {
   "cell_type": "code",
   "execution_count": 11,
   "metadata": {},
   "outputs": [
    {
     "name": "stdout",
     "output_type": "stream",
     "text": [
      "  image      padded_image       weight           Output\n",
      "(6, 6, 3)     (8, 8, 3)      (3, 3, 3)      (6, 6)\n"
     ]
    }
   ],
   "source": [
    "print('  image      padded_image       weight           Output')\n",
    "print(image.shape,'   ',padded_image.shape,'    ',W.shape,'    ',Z.shape)"
   ]
  },
  {
   "cell_type": "markdown",
   "metadata": {},
   "source": [
    "### Convolution Operation\n",
    "- with the whole training set\n",
    "- with more than 1 filters(5 lets say)"
   ]
  },
  {
   "cell_type": "code",
   "execution_count": 16,
   "metadata": {},
   "outputs": [],
   "source": [
    "def conv_forward_model(A_prev,W,b):\n",
    "    \n",
    "    (m, n_H_prev, n_W_prev, n_C_prev) = A_prev.shape\n",
    "    (f, f, n_C_prev, n_C) = W.shape\n",
    "    \n",
    "    stride = 1\n",
    "    pad = 1\n",
    "    \n",
    "    n_H = int((n_H_prev+2*pad-f)/stride)+1\n",
    "    n_W = int((n_W_prev+2*pad-f)/stride)+1\n",
    "    \n",
    "    Z = np.zeros((m,n_H,n_W,n_C))\n",
    "    \n",
    "    A_prev_pad = zero_padding(A_prev, pad)\n",
    "    \n",
    "    for i in range(m):\n",
    "        a_prev = A_prev_pad[i,:,:,:]\n",
    "        \n",
    "        for h in range(n_H):\n",
    "            vert_start = stride*h\n",
    "            vert_end   = stride*h+f\n",
    "            for w in range(n_W):\n",
    "                horiz_start = stride*w\n",
    "                horiz_end   = stride*w+f\n",
    "                for c in range(n_C):\n",
    "                    a_prev_slice = a_prev[vert_start:vert_end,horiz_start:horiz_end,:]\n",
    "                    W_ = W[:,:,:,c]\n",
    "                    b_ = b[:,:,:,c]\n",
    "                    Z[i,h,w,c] = conv_step(a_prev_slice,W_,b_)\n",
    "    hparameters = {'stride':stride,'pad':pad}\n",
    "    cache = (A_prev,W,b,hparameters)    \n",
    "    return Z,cache"
   ]
  },
  {
   "cell_type": "markdown",
   "metadata": {},
   "source": [
    "Now we will make a Random training_set"
   ]
  },
  {
   "cell_type": "code",
   "execution_count": 17,
   "metadata": {},
   "outputs": [],
   "source": [
    "img         = np.random.randn(10,6,6,3)\n",
    "W           = np.random.randn(3,3,3,5)\n",
    "b           = np.random.randn(1,1,1,5)\n",
    "Z_img,cache = conv_forward_model(img,W,b)"
   ]
  },
  {
   "cell_type": "code",
   "execution_count": 18,
   "metadata": {},
   "outputs": [
    {
     "name": "stdout",
     "output_type": "stream",
     "text": [
      "Image_Shape  :  (10, 6, 6, 3)\n",
      "Weight_Shape :  (3, 3, 3, 5)\n",
      "bias_shape   :  (1, 1, 1, 5)\n",
      "Output Shape :  (10, 6, 6, 5)\n"
     ]
    }
   ],
   "source": [
    "print('Image_Shape  : ',img.shape)\n",
    "print('Weight_Shape : ',W.shape)\n",
    "print('bias_shape   : ',b.shape)\n",
    "print('Output Shape : ',Z_img.shape)"
   ]
  },
  {
   "cell_type": "markdown",
   "metadata": {},
   "source": [
    "### Pooling Layer\n",
    "\n",
    "Pooling Layers are of two types:\n",
    "- Max Pooling\n",
    "- Average Pooling"
   ]
  },
  {
   "cell_type": "markdown",
   "metadata": {},
   "source": [
    "Pooling with a single image"
   ]
  },
  {
   "cell_type": "code",
   "execution_count": 20,
   "metadata": {},
   "outputs": [],
   "source": [
    "def pool_forward(a_prev,stride,f,mode):\n",
    "    \n",
    "    (n_H_prev, n_W_prev) = a_prev.shape\n",
    "    \n",
    "    # Define the dimensions of the output\n",
    "    n_H = int(1 + (n_H_prev - f) / stride)\n",
    "    n_W = int(1 + (n_W_prev - f) / stride)\n",
    "    \n",
    "    a = np.zeros((n_H,n_W))\n",
    "    \n",
    "    for h in range(n_H):\n",
    "        vert_start = stride*h\n",
    "        vert_end   = stride*h+f\n",
    "        for w in range(n_W):\n",
    "            horiz_start = stride*w\n",
    "            horiz_end   = stride*w+f\n",
    "            \n",
    "            a_prev_slice = a_prev[vert_start:vert_end,horiz_start:horiz_end]\n",
    "            \n",
    "            if(mode == 'max'):\n",
    "                a[h,w] = np.max(a_prev_slice)\n",
    "            elif(mode=='avg'):\n",
    "                a[h,w] = np.mean(a_prev_slice)\n",
    "    return a"
   ]
  },
  {
   "cell_type": "code",
   "execution_count": 26,
   "metadata": {},
   "outputs": [],
   "source": [
    "np.random.seed(1)\n",
    "img = np.random.rand(4,4)\n",
    "max_pool_img = pool_forward(img,2,2,mode='max')\n",
    "avg_pool_img = pool_forward(img,2,2,mode='avg')"
   ]
  },
  {
   "cell_type": "code",
   "execution_count": 27,
   "metadata": {},
   "outputs": [
    {
     "data": {
      "text/plain": [
       "<matplotlib.image.AxesImage at 0x239c2445860>"
      ]
     },
     "execution_count": 27,
     "metadata": {},
     "output_type": "execute_result"
    },
    {
     "data": {
      "image/png": "[encoded data removed]",
      "text/plain": [
       "<Figure size 432x288 with 3 Axes>"
      ]
     },
     "metadata": {
      "needs_background": "light"
     },
     "output_type": "display_data"
    }
   ],
   "source": [
    "fig, axarr = plt.subplots(1, 3)\n",
    "axarr[0].set_title('img')\n",
    "axarr[0].imshow(img)\n",
    "axarr[1].set_title('Max Pooling')\n",
    "axarr[1].imshow(max_pool_img)\n",
    "axarr[2].set_title('Average Pooling')\n",
    "axarr[2].imshow(avg_pool_img)"
   ]
  },
  {
   "cell_type": "code",
   "execution_count": 28,
   "metadata": {},
   "outputs": [
    {
     "name": "stdout",
     "output_type": "stream",
     "text": [
      "Original Image Shape :  (4, 4)\n",
      "Pooling Output Shape :  (2, 2)\n"
     ]
    }
   ],
   "source": [
    "print('Original Image Shape : ',img.shape)\n",
    "print('Pooling Output Shape : ',max_pool_img.shape)"
   ]
  },
  {
   "cell_type": "markdown",
   "metadata": {},
   "source": [
    "- Pooling with m images\n",
    "- Pooling with c filters"
   ]
  },
  {
   "cell_type": "code",
   "execution_count": 29,
   "metadata": {},
   "outputs": [],
   "source": [
    "def pool_forward_model(A_prev,stride,f,mode):\n",
    "    (m, n_H_prev, n_W_prev, n_C_prev) = A_prev.shape\n",
    "    \n",
    "    n_H = int(1 + (n_H_prev - f) / stride)\n",
    "    n_W = int(1 + (n_W_prev - f) / stride)\n",
    "    n_C = n_C_prev\n",
    "    \n",
    "    #output matrix\n",
    "    A = np.zeros((m, n_H, n_W, n_C))\n",
    "    \n",
    "    for i in range(m):                         \n",
    "        for h in range(n_H):                    \n",
    "            vert_start = h*stride\n",
    "            vert_end = h*stride+f\n",
    "            \n",
    "            for w in range(n_W):                \n",
    "                horiz_start = w*stride\n",
    "                horiz_end = w*stride+f\n",
    "                \n",
    "                for c in range (n_C):           \n",
    "                    \n",
    "                    a_prev_slice = A_prev[i, vert_start:vert_end, horiz_start:horiz_end,c]\n",
    "                    if mode == \"max\":\n",
    "                        A[i, h, w, c] = np.max(a_prev_slice)\n",
    "                    elif mode == \"average\":\n",
    "                        A[i, h, w, c] = np.mean(a_prev_slice)\n",
    "    hparameters = {'stride':stride,'f':f}\n",
    "    cache = (A_prev, hparameters)\n",
    "    return A,cache"
   ]
  },
  {
   "cell_type": "code",
   "execution_count": 32,
   "metadata": {},
   "outputs": [],
   "source": [
    "np.random.seed(1)\n",
    "A_prev = np.random.rand(10,4,4,3)\n",
    "max_pool_A_prev,cache = pool_forward_model(A_prev,2,2,mode='max')\n",
    "avg_pool_A_prev,cache = pool_forward_model(A_prev,2,2,mode='avg')"
   ]
  },
  {
   "cell_type": "code",
   "execution_count": 33,
   "metadata": {},
   "outputs": [
    {
     "name": "stdout",
     "output_type": "stream",
     "text": [
      "Original Set Shape   :  (10, 4, 4, 3)\n",
      "Pooling Output Shape :  (10, 2, 2, 3)\n"
     ]
    }
   ],
   "source": [
    "print('Original Set Shape   : ',A_prev.shape)\n",
    "print('Pooling Output Shape : ',max_pool_A_prev.shape)"
   ]
  },
  {
   "cell_type": "markdown",
   "metadata": {},
   "source": [
    "### Won't Do backprop as in programming Frameworks ; We only need to do Forward Prop"
   ]
  }
 ],
 "metadata": {
  "kernelspec": {
   "display_name": "Python 3",
   "language": "python",
   "name": "python3"
  },
  "language_info": {
   "codemirror_mode": {
    "name": "ipython",
    "version": 3
   },
   "file_extension": ".py",
   "mimetype": "text/x-python",
   "name": "python",
   "nbconvert_exporter": "python",
   "pygments_lexer": "ipython3",
   "version": "3.7.3"
  }
 },
 "nbformat": 4,
 "nbformat_minor": 4
}
